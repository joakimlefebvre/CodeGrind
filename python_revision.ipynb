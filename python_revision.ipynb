{
 "cells": [
  {
   "cell_type": "markdown",
   "id": "1689397c-ab0c-4a02-b91b-c9381b59c24f",
   "metadata": {},
   "source": [
    "# Python + OOP Revision notebook"
   ]
  },
  {
   "cell_type": "markdown",
   "id": "0d96e6c6-d56d-45ad-a240-77ccafbb63d7",
   "metadata": {},
   "source": [
    "## 1. Basic Python Syntax"
   ]
  },
  {
   "cell_type": "markdown",
   "id": "cb364a9e-9fe3-4bc4-913f-96078ef7f137",
   "metadata": {},
   "source": [
    "### 1.1 Variables & Data Types"
   ]
  },
  {
   "cell_type": "code",
   "execution_count": 225,
   "id": "7d2916d7-6cb4-4fc5-a741-0d0d50f04c32",
   "metadata": {},
   "outputs": [],
   "source": [
    "x = 10              # int\n",
    "name = \"Alice\"      # str\n",
    "pi = 3.14           # float\n",
    "is_valid = True     # bool"
   ]
  },
  {
   "cell_type": "markdown",
   "id": "f10aed3b-b220-4f18-bba9-bfb0f3db4638",
   "metadata": {},
   "source": [
    "### 1.2 Data Structures "
   ]
  },
  {
   "cell_type": "code",
   "execution_count": 226,
   "id": "b924d039-4b7e-4b1c-98fb-c209fd49c6cf",
   "metadata": {},
   "outputs": [
    {
     "name": "stdout",
     "output_type": "stream",
     "text": [
      "Alice\n"
     ]
    }
   ],
   "source": [
    "# List\n",
    "my_list = [1, 2, 3]\n",
    "\n",
    "# Tuple (immutable)\n",
    "my_tuple = (1, 2, 3)\n",
    "\n",
    "# Set (unique items)\n",
    "my_set = {1, 2, 3}\n",
    "\n",
    "# Dictionary (key-value pairs)\n",
    "my_dict = {\"name\": \"Alice\", \"age\": 25}\n",
    "\n",
    "print(my_dict[\"name\"])"
   ]
  },
  {
   "cell_type": "markdown",
   "id": "4231e6ac-3ba8-4ec6-b4ce-4d2d0699ac9c",
   "metadata": {},
   "source": [
    "### 1.3 Control Structures"
   ]
  },
  {
   "cell_type": "code",
   "execution_count": 227,
   "id": "ef03f350-f679-4fdf-9807-6e3c357d130c",
   "metadata": {},
   "outputs": [
    {
     "name": "stdout",
     "output_type": "stream",
     "text": [
      "Equal\n",
      "0\n",
      "1\n",
      "2\n",
      "3\n",
      "4\n"
     ]
    }
   ],
   "source": [
    "# if-elif-else\n",
    "if x > 10:\n",
    "    print(\"Greater\")\n",
    "elif x == 10:\n",
    "    print(\"Equal\")\n",
    "else:\n",
    "    print(\"Smaller\")\n",
    "\n",
    "# Loops\n",
    "for i in range(5):\n",
    "    print(i)\n",
    "\n",
    "while x > 0:\n",
    "    x -= 1"
   ]
  },
  {
   "cell_type": "markdown",
   "id": "62235004-8158-47c0-94d5-b7248034db22",
   "metadata": {},
   "source": [
    "### 1.4 Functions"
   ]
  },
  {
   "cell_type": "code",
   "execution_count": 228,
   "id": "c02a8ced-3395-44f5-8c22-f2d3a938e664",
   "metadata": {},
   "outputs": [],
   "source": [
    "def greet(name):\n",
    "    return f\"Hello, {name}!\"\n",
    "\n",
    "# Default & keyword arguments\n",
    "def add(a, b=5):\n",
    "    return a + b"
   ]
  },
  {
   "cell_type": "markdown",
   "id": "e816bec2-0434-45d2-b209-5daa65e1f55d",
   "metadata": {},
   "source": [
    "## 2. Object-Oriented Programming (OOP)"
   ]
  },
  {
   "cell_type": "markdown",
   "id": "e6017206-d4e5-474f-ba05-4e367339ddb7",
   "metadata": {},
   "source": [
    "### 2.1 Class & Object"
   ]
  },
  {
   "cell_type": "code",
   "execution_count": 229,
   "id": "c9522b6f-7913-4ab5-8369-e7fc55f7979d",
   "metadata": {},
   "outputs": [
    {
     "name": "stdout",
     "output_type": "stream",
     "text": [
      "Buddy says Woof!\n"
     ]
    }
   ],
   "source": [
    "class Dog:\n",
    "    def __init__(self, name):\n",
    "        self.name = name\n",
    "\n",
    "    def bark(self):\n",
    "        print(f\"{self.name} says Woof!\")\n",
    "\n",
    "my_dog = Dog(\"Buddy\")\n",
    "my_dog.bark()"
   ]
  },
  {
   "cell_type": "markdown",
   "id": "81fdd196-a979-4fe0-83ad-8968669cd431",
   "metadata": {},
   "source": [
    "### 2.2 Key Concepts"
   ]
  },
  {
   "cell_type": "markdown",
   "id": "1c27b345-855a-4744-be95-4d50b8983db0",
   "metadata": {},
   "source": [
    "#### 2.2.1 Encapsulation\n",
    "##### Keeping data and methods that operate on the data together in one unit."
   ]
  },
  {
   "cell_type": "code",
   "execution_count": 230,
   "id": "6cb5e7b0-43d2-4e3e-912b-8cd399ea4376",
   "metadata": {},
   "outputs": [],
   "source": [
    "class Account:\n",
    "    def __init__(self, balance):\n",
    "        self.__balance = balance  # private attribute\n",
    "\n",
    "    def get_balance(self):\n",
    "        return self.__balance\n",
    "\n",
    "    def deposit(self, amount):\n",
    "        self.__balance += amount"
   ]
  },
  {
   "cell_type": "markdown",
   "id": "abe2a0f7-d5b4-4ecd-bf91-4796ee705f80",
   "metadata": {},
   "source": [
    "#### 2.2.2 Inheritance\n",
    "##### Child class inherits from parent class."
   ]
  },
  {
   "cell_type": "code",
   "execution_count": 231,
   "id": "b8e5d293-06c8-4f40-89c8-f6fa707bde20",
   "metadata": {},
   "outputs": [
    {
     "name": "stdout",
     "output_type": "stream",
     "text": [
      "Meow\n"
     ]
    }
   ],
   "source": [
    "class Animal:\n",
    "    def speak(self):\n",
    "        print(\"I make a sound\")\n",
    "\n",
    "class Cat(Animal):\n",
    "    def speak(self):\n",
    "        print(\"Meow\")\n",
    "\n",
    "kitty = Cat()\n",
    "kitty.speak()  # Meow"
   ]
  },
  {
   "cell_type": "markdown",
   "id": "1b96c9a4-1e88-40f7-b0f0-6882dc66d1eb",
   "metadata": {},
   "source": [
    "#### 2.2.3 Polymorphism\n",
    "##### Same method name behaves differently in different classes."
   ]
  },
  {
   "cell_type": "code",
   "execution_count": 232,
   "id": "dd6e0d94-934f-4560-abe1-2bdd18a1662e",
   "metadata": {},
   "outputs": [
    {
     "name": "stdout",
     "output_type": "stream",
     "text": [
      "Meow\n",
      "Tweet\n"
     ]
    }
   ],
   "source": [
    "class Bird:\n",
    "    def speak(self):\n",
    "        print(\"Tweet\")\n",
    "\n",
    "animals = [Cat(), Bird()]\n",
    "for animal in animals:\n",
    "    animal.speak()  # Meow, Tweet"
   ]
  },
  {
   "cell_type": "markdown",
   "id": "2a2c3830-8e14-4f71-99ea-f5dc9c079758",
   "metadata": {},
   "source": [
    "#### 2.2.4 Abstraction\n",
    "##### Hiding the complexity, only showing essential features."
   ]
  },
  {
   "cell_type": "code",
   "execution_count": 233,
   "id": "0e0ae9df-8905-4fcb-aef3-656194f94c56",
   "metadata": {},
   "outputs": [],
   "source": [
    "from abc import ABC, abstractmethod\n",
    "\n",
    "class Vehicle(ABC):\n",
    "    @abstractmethod\n",
    "    def drive(self):\n",
    "        pass\n",
    "\n",
    "class Car(Vehicle):\n",
    "    def drive(self):\n",
    "        print(\"Driving a car\")"
   ]
  },
  {
   "cell_type": "markdown",
   "id": "e7f691d2-2084-4e94-a572-4cd7d30041e7",
   "metadata": {},
   "source": [
    "## 3. Python Array (List) Functions – Quick Revision"
   ]
  },
  {
   "cell_type": "markdown",
   "id": "f5e7d0e8-d42e-4b38-b73d-ff96a267e865",
   "metadata": {},
   "source": [
    "### 3.1 Creating a List"
   ]
  },
  {
   "cell_type": "code",
   "execution_count": 234,
   "id": "fd7af2b8-f500-4e7f-8df5-f6338db38a97",
   "metadata": {},
   "outputs": [
    {
     "name": "stdout",
     "output_type": "stream",
     "text": [
      "[10, 20, 30, 40, 50]\n"
     ]
    }
   ],
   "source": [
    "my_list = [10, 20, 30, 40, 50]\n",
    "print(my_list)"
   ]
  },
  {
   "cell_type": "markdown",
   "id": "84b6444f-c3fa-4ee2-a60b-4f76fdf809de",
   "metadata": {},
   "source": [
    "### 3.2 Common List Methods"
   ]
  },
  {
   "cell_type": "markdown",
   "id": "cbce51b4-94aa-4aca-8f86-9dad25bf1161",
   "metadata": {},
   "source": [
    "#### Add item to end"
   ]
  },
  {
   "cell_type": "code",
   "execution_count": 235,
   "id": "f3f3db0a-ebfa-42a0-9b00-c8f152410e09",
   "metadata": {},
   "outputs": [
    {
     "name": "stdout",
     "output_type": "stream",
     "text": [
      "[10, 20, 30, 40, 50, 60]\n"
     ]
    }
   ],
   "source": [
    "my_list.append(60)\n",
    "print(my_list)"
   ]
  },
  {
   "cell_type": "markdown",
   "id": "8ca566b4-c912-4995-9a33-c6dd57928706",
   "metadata": {},
   "source": [
    "#### Add all items from another list"
   ]
  },
  {
   "cell_type": "code",
   "execution_count": 236,
   "id": "72a1951f-f7b5-467f-8088-40a333a2fd93",
   "metadata": {},
   "outputs": [
    {
     "name": "stdout",
     "output_type": "stream",
     "text": [
      "[10, 20, 30, 40, 50, 60, 70, 80]\n"
     ]
    }
   ],
   "source": [
    "my_list.extend([70,80])\n",
    "print(my_list)"
   ]
  },
  {
   "cell_type": "markdown",
   "id": "d41f7273-f03f-4537-b1c0-6f175739c41e",
   "metadata": {},
   "source": [
    "#### Insert at position"
   ]
  },
  {
   "cell_type": "code",
   "execution_count": 237,
   "id": "f9a64ba5-4931-49ca-8d55-ad3f235ef0e3",
   "metadata": {},
   "outputs": [
    {
     "name": "stdout",
     "output_type": "stream",
     "text": [
      "[10, 20, 25, 30, 40, 50, 60, 70, 80]\n"
     ]
    }
   ],
   "source": [
    "my_list.insert(2, 25)\n",
    "print(my_list)"
   ]
  },
  {
   "cell_type": "markdown",
   "id": "c18cb5e1-46d8-462f-b661-89fa2cb30d56",
   "metadata": {},
   "source": [
    "#### Remove first occurence of x"
   ]
  },
  {
   "cell_type": "code",
   "execution_count": 238,
   "id": "25a410d1-9d75-40b3-bb8e-89be45201ebd",
   "metadata": {},
   "outputs": [],
   "source": [
    "my_list.remove(30)"
   ]
  },
  {
   "cell_type": "markdown",
   "id": "d8ba04a0-503f-495c-9d71-50b0f7f5b8c2",
   "metadata": {},
   "source": [
    "#### Remove and return item at index"
   ]
  },
  {
   "cell_type": "code",
   "execution_count": 239,
   "id": "c33207de-320b-48b9-b66a-ad67b6027555",
   "metadata": {},
   "outputs": [
    {
     "name": "stdout",
     "output_type": "stream",
     "text": [
      "20\n",
      "[10, 25, 40, 50, 60, 70, 80]\n"
     ]
    }
   ],
   "source": [
    "print(my_list.pop(1))\n",
    "print(my_list)"
   ]
  },
  {
   "cell_type": "markdown",
   "id": "1b0a07d6-88ee-4185-9808-0d911c0fe634",
   "metadata": {},
   "source": [
    "#### Return index of first x"
   ]
  },
  {
   "cell_type": "code",
   "execution_count": 240,
   "id": "cfa2d8e3-4ee6-4274-93d9-f7161aff93b6",
   "metadata": {},
   "outputs": [
    {
     "name": "stdout",
     "output_type": "stream",
     "text": [
      "2\n"
     ]
    }
   ],
   "source": [
    "print(my_list.index(40))"
   ]
  },
  {
   "cell_type": "markdown",
   "id": "8c2efaa6-7cc0-4693-b9f5-888d90ac288c",
   "metadata": {},
   "source": [
    "#### Count occurences of x"
   ]
  },
  {
   "cell_type": "code",
   "execution_count": 241,
   "id": "e1a9e714-0bc8-4a68-b45b-ca6a43957dea",
   "metadata": {},
   "outputs": [
    {
     "name": "stdout",
     "output_type": "stream",
     "text": [
      "1\n"
     ]
    }
   ],
   "source": [
    "print(my_list.count(10))"
   ]
  },
  {
   "cell_type": "markdown",
   "id": "ee4a9646-a116-4619-94ac-1cdbad085557",
   "metadata": {},
   "source": [
    "#### Sort the list (in-place)"
   ]
  },
  {
   "cell_type": "code",
   "execution_count": 242,
   "id": "ef82dc86-b8f0-407a-b5ea-756e7c5f78ca",
   "metadata": {},
   "outputs": [
    {
     "name": "stdout",
     "output_type": "stream",
     "text": [
      "[10, 25, 40, 50, 60, 70, 80]\n"
     ]
    }
   ],
   "source": [
    "my_list.sort()\n",
    "print(my_list)"
   ]
  },
  {
   "cell_type": "markdown",
   "id": "0692ab63-4cae-4a21-8caf-1ae53cc1e00c",
   "metadata": {},
   "source": [
    "#### Return a sorted copy"
   ]
  },
  {
   "cell_type": "code",
   "execution_count": 243,
   "id": "a381d961-6315-4c0c-8a3b-c08bfad95efc",
   "metadata": {},
   "outputs": [
    {
     "name": "stdout",
     "output_type": "stream",
     "text": [
      "[10, 25, 40, 50, 60, 70, 80]\n"
     ]
    }
   ],
   "source": [
    "print(sorted(my_list))"
   ]
  },
  {
   "cell_type": "markdown",
   "id": "f4cda2cd-2915-4e5f-a1e2-62ff3e507e08",
   "metadata": {},
   "source": [
    "#### Reverse list (in-place)"
   ]
  },
  {
   "cell_type": "code",
   "execution_count": 244,
   "id": "c9cf4a2e-2d1c-430a-b123-e712d3900f72",
   "metadata": {},
   "outputs": [],
   "source": [
    "my_list.reverse()"
   ]
  },
  {
   "cell_type": "markdown",
   "id": "1a9d501a-e718-4a7d-ad09-821bc074771b",
   "metadata": {},
   "source": [
    "#### Return a shallow copy"
   ]
  },
  {
   "cell_type": "code",
   "execution_count": 245,
   "id": "9c7aa79c-45c4-4da1-be5d-9e7fd4c39359",
   "metadata": {},
   "outputs": [
    {
     "name": "stdout",
     "output_type": "stream",
     "text": [
      "[80, 70, 60, 50, 40, 25, 10]\n",
      "[80, 70, 60, 50, 40, 25, 10]\n"
     ]
    }
   ],
   "source": [
    "copy_list = my_list.copy()\n",
    "print(copy_list)\n",
    "print(my_list)"
   ]
  },
  {
   "cell_type": "markdown",
   "id": "fb3aa1df-f881-4385-829c-ab0939304b39",
   "metadata": {},
   "source": [
    "#### Remove all elements"
   ]
  },
  {
   "cell_type": "code",
   "execution_count": 246,
   "id": "877ab98d-3158-4bde-923a-514a622377c1",
   "metadata": {},
   "outputs": [
    {
     "name": "stdout",
     "output_type": "stream",
     "text": [
      "[80, 70, 60, 50, 40, 25, 10]\n"
     ]
    }
   ],
   "source": [
    "#my_list.clear()\n",
    "print(my_list)"
   ]
  },
  {
   "cell_type": "markdown",
   "id": "63d6b120-e179-4d9f-96fb-cf46e1001edf",
   "metadata": {},
   "source": [
    "### 3.3 Useful Patterns & Tricks"
   ]
  },
  {
   "cell_type": "markdown",
   "id": "e9a91b16-31ae-419f-bd11-df931b9c888e",
   "metadata": {},
   "source": [
    "#### List Comprehension"
   ]
  },
  {
   "cell_type": "code",
   "execution_count": 247,
   "id": "1daa4beb-4d61-4abb-a7d3-ef6694d4d13c",
   "metadata": {},
   "outputs": [
    {
     "name": "stdout",
     "output_type": "stream",
     "text": [
      "[0, 1, 4, 9, 16]\n"
     ]
    }
   ],
   "source": [
    "squares = [x**2 for x in range(5)]\n",
    "print(squares)"
   ]
  },
  {
   "cell_type": "markdown",
   "id": "f2cab35a-acd0-43d4-8453-5cbf36afbfb8",
   "metadata": {},
   "source": [
    "#### Filtering"
   ]
  },
  {
   "cell_type": "code",
   "execution_count": 248,
   "id": "46bbccf0-83e4-47a9-b931-c040d9bddebe",
   "metadata": {},
   "outputs": [
    {
     "name": "stdout",
     "output_type": "stream",
     "text": [
      "[80, 70, 60, 50, 40, 10]\n"
     ]
    }
   ],
   "source": [
    "evens = [x for x in my_list if x % 2 == 0]\n",
    "print(evens)"
   ]
  },
  {
   "cell_type": "markdown",
   "id": "d85ea221-5b6e-4ce8-8b7e-9639d72d4b27",
   "metadata": {},
   "source": [
    "#### Mapping"
   ]
  },
  {
   "cell_type": "code",
   "execution_count": 249,
   "id": "5da10013-b5fd-4e45-8e36-d9dec558c7a3",
   "metadata": {},
   "outputs": [
    {
     "name": "stdout",
     "output_type": "stream",
     "text": [
      "[160, 140, 120, 100, 80, 50, 20]\n"
     ]
    }
   ],
   "source": [
    "doubled = list(map(lambda x: x * 2, my_list))\n",
    "print(doubled)"
   ]
  },
  {
   "cell_type": "markdown",
   "id": "a66fb22e-82a9-49b4-96a9-f7184e4c3a9f",
   "metadata": {},
   "source": [
    "#### Slicing"
   ]
  },
  {
   "cell_type": "code",
   "execution_count": 250,
   "id": "4846fae9-4b38-4dea-a474-645978b3414e",
   "metadata": {},
   "outputs": [
    {
     "name": "stdout",
     "output_type": "stream",
     "text": [
      "[20, 30, 40]\n",
      "[50, 40, 30, 20, 10]\n"
     ]
    }
   ],
   "source": [
    "my_list = [10, 20, 30, 40, 50]\n",
    "print(my_list[1:4])    # elements at index 1, 2, 3\n",
    "print(my_list[::-1])   # reversed list"
   ]
  },
  {
   "cell_type": "markdown",
   "id": "21ecd1dd-121f-4cb7-bba2-fe798876ea12",
   "metadata": {},
   "source": [
    "#### Length and Membership"
   ]
  },
  {
   "cell_type": "code",
   "execution_count": 251,
   "id": "20e305d7-21fa-47a5-a7a8-940db41566d2",
   "metadata": {},
   "outputs": [
    {
     "name": "stdout",
     "output_type": "stream",
     "text": [
      "5\n",
      "True\n"
     ]
    }
   ],
   "source": [
    "print(len(my_list))         # Get length\n",
    "print(20 in my_list)        # Check for existence"
   ]
  },
  {
   "cell_type": "markdown",
   "id": "2aad8f06-dc93-4c32-989c-29c9568588e2",
   "metadata": {},
   "source": [
    "#### Looping Through a List"
   ]
  },
  {
   "cell_type": "code",
   "execution_count": 252,
   "id": "dfa25f01-37ea-4357-88e2-096c2538f14f",
   "metadata": {},
   "outputs": [
    {
     "name": "stdout",
     "output_type": "stream",
     "text": [
      "10\n",
      "20\n",
      "30\n",
      "40\n",
      "50\n",
      "Index 0 has value 10\n",
      "Index 1 has value 20\n",
      "Index 2 has value 30\n",
      "Index 3 has value 40\n",
      "Index 4 has value 50\n"
     ]
    }
   ],
   "source": [
    "for item in my_list:\n",
    "    print(item)\n",
    "\n",
    "for i, item in enumerate(my_list):\n",
    "    print(f\"Index {i} has value {item}\")"
   ]
  },
  {
   "cell_type": "code",
   "execution_count": null,
   "id": "dbc8c9d5-4a95-484c-989d-d4c099104fde",
   "metadata": {},
   "outputs": [],
   "source": []
  }
 ],
 "metadata": {
  "kernelspec": {
   "display_name": "Python 3 (ipykernel)",
   "language": "python",
   "name": "python3"
  },
  "language_info": {
   "codemirror_mode": {
    "name": "ipython",
    "version": 3
   },
   "file_extension": ".py",
   "mimetype": "text/x-python",
   "name": "python",
   "nbconvert_exporter": "python",
   "pygments_lexer": "ipython3",
   "version": "3.10.13"
  }
 },
 "nbformat": 4,
 "nbformat_minor": 5
}
